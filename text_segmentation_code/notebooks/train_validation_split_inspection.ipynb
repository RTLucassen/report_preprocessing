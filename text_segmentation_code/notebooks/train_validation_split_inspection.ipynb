{
 "cells": [
  {
   "cell_type": "code",
   "execution_count": null,
   "metadata": {},
   "outputs": [],
   "source": [
    "\"\"\"\n",
    "Notebook to inspect how the class and header are distributed in the dataset \n",
    "for the training and validation set, and to check if the distribution is\n",
    "similar between the two sets.\n",
    "\"\"\""
   ]
  },
  {
   "cell_type": "code",
   "execution_count": null,
   "metadata": {},
   "outputs": [],
   "source": [
    "import sys\n",
    "sys.path.append(\"..\")  # Adds the project_root to the path\n",
    "\n",
    "from utils.train_val_splitter import TrainValSplitter\n",
    "from pathlib import Path"
   ]
  },
  {
   "cell_type": "code",
   "execution_count": null,
   "metadata": {},
   "outputs": [],
   "source": [
    "VALIDATION_SIZE = 0.1\n",
    "STRUCTURED_REPORT_EN_RATIO = 0\n",
    "DISCUSSION_EN_RATIO = 0\n",
    "MOL_RATIO = 0\n",
    "RANDOM_STATE = 42"
   ]
  },
  {
   "cell_type": "code",
   "execution_count": null,
   "metadata": {},
   "outputs": [],
   "source": [
    "labeled_tasks_file = Path(\"../../data/label_studio/labeled_tasks.json\")\n",
    "dir_to_patient_id = Path(\"../../data/train_val_patient_id\")"
   ]
  },
  {
   "cell_type": "code",
   "execution_count": null,
   "metadata": {},
   "outputs": [],
   "source": [
    "train_val_splitter = TrainValSplitter()\n",
    "train_idx, val_idx = train_val_splitter.create_train_val(labeled_tasks_file=labeled_tasks_file, dir_to_patient_id=dir_to_patient_id,\n",
    "                                                         validation_size=VALIDATION_SIZE,\n",
    "                                                         structured_report_en_ratio=STRUCTURED_REPORT_EN_RATIO,\n",
    "                                                         discussion_en_ratio=DISCUSSION_EN_RATIO,\n",
    "                                                         mol_ratio=MOL_RATIO,\n",
    "                                                         random_state=RANDOM_STATE)"
   ]
  },
  {
   "cell_type": "code",
   "execution_count": null,
   "metadata": {},
   "outputs": [],
   "source": [
    "header_df, class_df = train_val_splitter.eval_train_val(train_idx, val_idx, verbose=False)"
   ]
  },
  {
   "cell_type": "code",
   "execution_count": null,
   "metadata": {},
   "outputs": [],
   "source": [
    "header_df"
   ]
  },
  {
   "cell_type": "code",
   "execution_count": null,
   "metadata": {},
   "outputs": [],
   "source": [
    "class_df"
   ]
  }
 ],
 "metadata": {
  "kernelspec": {
   "display_name": ".venv",
   "language": "python",
   "name": "python3"
  },
  "language_info": {
   "codemirror_mode": {
    "name": "ipython",
    "version": 3
   },
   "file_extension": ".py",
   "mimetype": "text/x-python",
   "name": "python",
   "nbconvert_exporter": "python",
   "pygments_lexer": "ipython3",
   "version": "3.11.3"
  }
 },
 "nbformat": 4,
 "nbformat_minor": 2
}
